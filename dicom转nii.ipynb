{
 "cells": [
  {
   "cell_type": "code",
   "execution_count": 1,
   "id": "6f44154f",
   "metadata": {},
   "outputs": [],
   "source": [
    "import SimpleITK as sitk\n",
    "\n",
    "\n",
    "def dcm2nii(dcms_path, nii_path):\n",
    "    # 1.构建dicom序列文件阅读器，并执行（即将dicom序列文件“打包整合”）\n",
    "    reader = sitk.ImageSeriesReader()\n",
    "    dicom_names = reader.GetGDCMSeriesFileNames(dcms_path)\n",
    "    reader.SetFileNames(dicom_names)\n",
    "    image2 = reader.Execute()\n",
    "    # 2.将整合后的数据转为array，并获取dicom文件基本信息\n",
    "    image_array = sitk.GetArrayFromImage(image2)  # z, y, x\n",
    "    origin = image2.GetOrigin()  # x, y, z\n",
    "    spacing = image2.GetSpacing()  # x, y, z\n",
    "    direction = image2.GetDirection()  # x, y, z\n",
    "    # 3.将array转为img，并保存为.nii.gz\n",
    "    image3 = sitk.GetImageFromArray(image_array)\n",
    "    image3.SetSpacing(spacing)\n",
    "    image3.SetDirection(direction)\n",
    "    image3.SetOrigin(origin)\n",
    "    sitk.WriteImage(image3, nii_path)\n",
    "\n",
    "\n",
    "if __name__ == '__main__':\n",
    "    dcms_path = r'D:\\python\\dataset\\dicom\\data1\\series-000001'  # dicom序列文件所在路径\n",
    "    nii_path = r'D:\\python\\dataset\\dicom\\data1\\test.nii'  # 所需.nii.gz文件保存路径\n",
    "    dcm2nii(dcms_path, nii_path)\n"
   ]
  },
  {
   "cell_type": "code",
   "execution_count": null,
   "id": "601a6c79",
   "metadata": {},
   "outputs": [],
   "source": []
  }
 ],
 "metadata": {
  "kernelspec": {
   "display_name": "Python 3",
   "language": "python",
   "name": "python3"
  },
  "language_info": {
   "codemirror_mode": {
    "name": "ipython",
    "version": 3
   },
   "file_extension": ".py",
   "mimetype": "text/x-python",
   "name": "python",
   "nbconvert_exporter": "python",
   "pygments_lexer": "ipython3",
   "version": "3.8.8"
  }
 },
 "nbformat": 4,
 "nbformat_minor": 5
}
