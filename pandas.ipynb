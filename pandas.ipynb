{
 "cells": [
  {
   "cell_type": "code",
   "execution_count": 1,
   "id": "05f08656",
   "metadata": {},
   "outputs": [],
   "source": [
    "import os\n",
    "import pandas as pd"
   ]
  },
  {
   "cell_type": "code",
   "execution_count": 13,
   "id": "05450ef5",
   "metadata": {},
   "outputs": [],
   "source": [
    "#从文件夹和信息表中取交集生成新表\n",
    "file_path = r'\\\\mega\\syli\\dataset\\neimo\\eaoc'\n",
    "label_path = r'\\\\mega\\syli\\dataset\\neimo\\label.xlsx'\n",
    "file_df = pd.DataFrame(os.listdir(file_path), columns=['MRI-ID'])\n",
    "label_df = pd.read_excel(label_path)\n",
    "fin_df = pd.merge(file_df, label_df)\n",
    "fin_df.rename(columns={'MRI-ID':'CaseName','MT':'label'},inplace=True)\n",
    "fin_df.to_csv(r'\\\\mega\\syli\\dataset\\neimo\\label1.csv',index=False,encoding=\"utf_8_sig\")"
   ]
  },
  {
   "cell_type": "code",
   "execution_count": 10,
   "id": "02304b9b",
   "metadata": {},
   "outputs": [],
   "source": [
    "#合并label和feature\n",
    "path=r'\\\\mega\\syli\\dataset\\endometrial cancer'\n",
    "df1=pd.read_csv(path+'\\\\label1.csv')   #可设置stp\n",
    "for modal in ['SAG', 'DWI', '+C']:\n",
    "    df2=pd.read_csv(path+f'\\\\{modal}_feature.csv')\n",
    "    # df3=df1[['CaseName','p53（0=≤50%；1=＞50%）','age']]\n",
    "    # df3.rename(columns={'p53（0=≤50%；1=＞50%）':'label'},inplace=True)\n",
    "    df5=pd.merge(df1,df2)   #合并数据表,需要共同的列\n",
    "    #df2.insert(1,'label',df3)  #插入列\n",
    "    df5.to_csv(r'\\\\mega\\syli\\dataset\\endometrial cancer\\data' + f'\\\\{modal}.csv',index=False,encoding=\"utf_8_sig\")\n",
    "    #os.mkdir(r'\\\\mega\\syli\\dataset\\endometrial cancer\\data' + f'\\\\{modal}_result')"
   ]
  },
  {
   "cell_type": "markdown",
   "id": "0e4a1769",
   "metadata": {},
   "source": [
    "# 正则匹配"
   ]
  },
  {
   "cell_type": "code",
   "execution_count": null,
   "id": "aecb9070",
   "metadata": {
    "scrolled": true
   },
   "outputs": [],
   "source": [
    "filepath=r'D:\\python\\dataset\\GBM-radiomics\\ki67\\T1-3'\n",
    "zong=pd.read_csv(filepath+'\\\\T1_3.csv')\n",
    "feature_list=['log-sigma-1-0','log-sigma-3-0','log-sigma-5-0','wave','original']\n",
    "df3=zong.iloc[:,:2]\n",
    "\n",
    "for feature in feature_list:\n",
    "    os.makedirs(filepath+f\"\\\\{feature}\\\\result\")\n",
    "    df1=zong.filter(regex='^(?!.*?firstorder).*$')   #^不匹配，?!不包含,.*?非贪婪，.*所有内容\n",
    "#df4=zong.filter(regex='firstorder') \n",
    "    df2=df1.filter(regex=f'{feature}')\n",
    "    result_df=pd.merge(df3,df2,left_index=True,right_index=True)\n",
    "    result_df.to_csv(filepath+f'\\\\{feature}\\\\T1_3.csv',index=False)\n",
    "    \n",
    "df4=zong.filter(regex='firstorder')\n",
    "df5=df4.filter(regex='^(?!.*?original).*$')\n",
    "pd.merge(df3,df5,left_index=True,right_index=True).to_csv(filepath+'\\\\bian_firstorder\\\\T1_3.csv',index=False)\n",
    "df5=df4.filter(regex='original')\n",
    "df3=zong.iloc[:,:3]\n",
    "pd.merge(df3,df5,left_index=True,right_index=True).to_csv(filepath+'\\\\ori_firstorder\\\\T1_3.csv',index=False)"
   ]
  },
  {
   "cell_type": "code",
   "execution_count": 11,
   "id": "4cb3bfb1",
   "metadata": {},
   "outputs": [
    {
     "name": "stdout",
     "output_type": "stream",
     "text": [
      "0\n",
      "1\n",
      "2\n"
     ]
    }
   ],
   "source": [
    "#提取建模选好的特征并合并\n",
    "number = 3\n",
    "feature_path=['']*number\n",
    "df_path=['']*number\n",
    "select_df=['']*number\n",
    "feature_path[0]=r'\\\\mega\\syli\\dataset\\endometrial cancer\\data\\+C_result\\Mean\\PCC\\Relief_19\\feature_select_info.csv'\n",
    "df_path[0]=r'\\\\mega\\syli\\dataset\\endometrial cancer\\data\\+C.csv'\n",
    "feature_path[1]=r'\\\\mega\\syli\\dataset\\endometrial cancer\\data\\SAG_result\\Zscore\\PCC\\Relief_8\\feature_select_info.csv'\n",
    "df_path[1]=r'\\\\mega\\syli\\dataset\\endometrial cancer\\data\\SAG.csv'\n",
    "feature_path[2]=r'\\\\mega\\syli\\dataset\\endometrial cancer\\data\\DWI_result\\Zscore\\PCC\\RFE_16\\feature_select_info.csv'\n",
    "df_path[2]=r'\\\\mega\\syli\\dataset\\endometrial cancer\\data\\DWI.csv'\n",
    "# feature_path[3]=r'\\\\mega\\syli\\dataset\\neimo\\data\\T1+_result\\Zscore\\PCC\\KW_15\\feature_select_info.csv'\n",
    "# df_path[3]=r'\\\\mega\\syli\\dataset\\neimo\\data\\T1+.csv'\n",
    "# feature_path[4]=r'\\\\mega\\syli\\dataset\\neimo\\data\\T2_result\\Zscore\\PCC\\Relief_3\\feature_select_info.csv'\n",
    "# df_path[4]=r'\\\\mega\\syli\\dataset\\neimo\\data\\T2.csv' \n",
    "for i in range(number):\n",
    "    print(i)\n",
    "    feature_df=pd.read_csv(feature_path[i])\n",
    "    feature=list(feature_df.index[0])+feature_df.values.flatten().tolist()   #索引行并转换为列表\n",
    "    data_df=pd.read_csv(df_path[i])\n",
    "    feature.pop(0)   #出列\n",
    "    feature.insert(0,'CaseName')  #入栈\n",
    "    feature.insert(1,'label')\n",
    "    select_df[i]=data_df[feature]\n",
    "    if i == 0:\n",
    "        zong_df = select_df[i]\n",
    "    else:\n",
    "        zong_df = pd.merge(zong_df,select_df[i],on=('CaseName','label'))\n",
    "# zong_df=pd.merge(select_df[0],select_df[1],on=('CaseName','label'))  #on可以是两列\n",
    "# zong_df=pd.merge(zong_df,select_df[2],on=('CaseName','label'))\n",
    "zong_df.to_csv(r'\\\\mega\\syli\\dataset\\endometrial cancer\\data\\zong.csv',index=False)\n",
    "#info.rename(columns={'MRI-id':'CaseName'},inplace=True)  #改名"
   ]
  },
  {
   "cell_type": "markdown",
   "id": "6fae3402",
   "metadata": {},
   "source": [
    "# 表格相关操作"
   ]
  },
  {
   "cell_type": "code",
   "execution_count": null,
   "id": "98238e2c",
   "metadata": {},
   "outputs": [],
   "source": [
    "#提取表格信息转为列表\n",
    "path=r'D:\\python\\dataset\\GBM-radiomics\\GBM数据增加病例拼音.xlsx'\n",
    "df1=pd.read_excel(path)\n",
    "p53=df1['p53百分比'].values.tolist()\n",
    "p53_label=df1['p53（0=≤50%；1=＞50%）'].values.tolist()\n",
    "MGMT=df1['MGMT（0=≤8%；1=＞8%）'].values.tolist()\n",
    "p53_1=df1['p53_1'].values.tolist()\n",
    "p53_2=df1['p53_2'].values.tolist()"
   ]
  },
  {
   "cell_type": "code",
   "execution_count": null,
   "id": "3139a08f",
   "metadata": {},
   "outputs": [],
   "source": [
    "from math import sqrt\n",
    " \n",
    "def multipl(a,b):\n",
    "    sumofab=0.0\n",
    "    for i in range(len(a)):\n",
    "        temp=a[i]*b[i]\n",
    "        sumofab+=temp\n",
    "    return sumofab\n",
    " \n",
    "def corrcoef(x,y):\n",
    "    n=len(x)\n",
    "    #求和\n",
    "    sum1=sum(x)\n",
    "    sum2=sum(y)\n",
    "    #求乘积之和\n",
    "    sumofxy=multipl(x,y)\n",
    "    #求平方和\n",
    "    sumofx2 = sum([pow(i,2) for i in x])\n",
    "    sumofy2 = sum([pow(j,2) for j in y])\n",
    "    num=sumofxy-(float(sum1)*float(sum2)/n)\n",
    "    #计算皮尔逊相关系数\n",
    "    den=sqrt((sumofx2-float(sum1**2)/n)*(sumofy2-float(sum2**2)/n))\n",
    "    return num/den\n",
    "print(corrcoef(p53_label,MGMT))\n",
    "print(corrcoef(p53_1,MGMT))\n",
    "print(corrcoef(p53_2,MGMT))"
   ]
  },
  {
   "cell_type": "code",
   "execution_count": null,
   "id": "f1a5e759",
   "metadata": {},
   "outputs": [],
   "source": [
    "#多模态合并计算\n",
    "path=r'\\\\mega\\syli\\dataset\\Primary and metastatic'\n",
    "df1=pd.read_csv(path+'\\\\T1\\\\T1_gai.csv')\n",
    "T1CE_feature=pd.read_csv(path+'\\\\T1CE\\\\T1CE_gai.csv')\n",
    "T2_feature=pd.read_csv(path+'\\\\T2\\\\T2_gai.csv')\n",
    "DWI_feature=pd.read_csv(path+'\\\\DWI\\\\DWI_gai1.csv')\n",
    "df1=pd.merge(df1,T2_feature)\n",
    "df1=pd.merge(df1,T1CE_feature)\n",
    "df1=pd.merge(df1,DWI_feature)\n",
    "df1"
   ]
  },
  {
   "cell_type": "code",
   "execution_count": null,
   "id": "4089b931",
   "metadata": {},
   "outputs": [],
   "source": [
    "#计算p值\n",
    "import numpy as np\n",
    "from scipy.stats import chi2_contingency\n",
    "\n",
    "d = np.array([[0, 1,1], [0, 1]])\n",
    "tab = pd.crosstab(x, y).fillna(0)\n",
    "chi2_contingency(d)"
   ]
  },
  {
   "cell_type": "code",
   "execution_count": null,
   "id": "518c8a7c",
   "metadata": {},
   "outputs": [],
   "source": [
    "#分割特征\n",
    "filepath=r'D:\\python\\dataset\\GBM-radiomics'\n",
    "list1=['CBV','DSC','FLAIR-2','T1-1','T2-1']\n",
    "for file_name in list1:\n",
    "    path=filepath+'\\\\'+file_name+'\\\\firstorder'\n",
    "#     os.mkdir(path+'\\\\ori_result')\n",
    "#     os.mkdir(path+'\\\\bian_result')\n",
    "    for form_path in ['\\\\train_numeric_feature.csv','\\\\test_numeric_feature.csv']:\n",
    "        form=path+form_path\n",
    "        zong=pd.read_csv(form)\n",
    "        df1=zong.filter(regex='^(?!.*?original).*$')   #^不匹配，?!不包含,.*?非贪婪，.*所有内容\n",
    "        df2=zong.filter(regex='original') \n",
    "        df3=zong.iloc[:,:2]\n",
    "        df5=pd.merge(df3,df2,left_index=True,right_index=True)\n",
    "        df1.to_csv(path+'\\\\bian_'+form_path[1:],index=False)\n",
    "        df5.to_csv(path+'\\\\ori_'+form_path[1:],index=False)"
   ]
  },
  {
   "cell_type": "code",
   "execution_count": null,
   "id": "508af17d",
   "metadata": {},
   "outputs": [],
   "source": [
    "# df4=df2.filter(regex='^(?!.*?firstorder).*$')   #^不匹配，?!不包含,.*?非贪婪，.*所有内容\n",
    "# df6=df4.filter(regex='wave')  log-sigma-1-0,original\n",
    "#也是分割特征\n",
    "filepath=r'D:\\python\\dataset\\GBM-radiomics\\ki67\\T1-3'\n",
    "zong=pd.read_csv(filepath+'\\\\T1_3.csv')\n",
    "feature_list=['log-sigma-1-0','log-sigma-3-0','log-sigma-5-0','wave','original']\n",
    "df3=zong.iloc[:,:2]\n",
    "\n",
    "for feature in feature_list:\n",
    "    os.mkdir(filepath+f\"\\\\{feature}\")\n",
    "    df1=zong.filter(regex='^(?!.*?firstorder).*$')   #^不匹配，?!不包含,.*?非贪婪，.*所有内容\n",
    "#df4=zong.filter(regex='firstorder') \n",
    "    df2=df1.filter(regex=f'{feature}')\n",
    "    result_df=pd.merge(df3,df2,left_index=True,right_index=True)\n",
    "    result_df.to_csv(filepath+f'\\\\{feature}\\\\T1_3.csv',index=False)\n",
    "    \n",
    "df4=zong.filter(regex='firstorder')\n",
    "df5=df4.filter(regex='^(?!.*?original).*$')\n",
    "pd.merge(df3,df5,left_index=True,right_index=True).to_csv(filepath+'\\\\bian_firstorder\\\\T1_3.csv',index=False)\n",
    "df5=df4.filter(regex='original')\n",
    "df3=zong.iloc[:,:3]\n",
    "pd.merge(df3,df5,left_index=True,right_index=True).to_csv(filepath+'\\\\ori_firstorder\\\\T1_3.csv',index=False)"
   ]
  },
  {
   "cell_type": "code",
   "execution_count": 7,
   "id": "f86af2b2",
   "metadata": {},
   "outputs": [],
   "source": [
    "#变换label\n",
    "path = r'\\\\mega\\syli\\dataset\\endometrial cancer'\n",
    "label_df = pd.read_excel(os.path.join(path,'EC分子分型8.61（1）.xlsx'))\n",
    "label_df = label_df[['CaseName', 'label']]\n",
    "i = 0\n",
    "for a in label_df['label']:\n",
    "    if 'P53' in a:\n",
    "        label_df.loc[i, 'label'] = 1\n",
    "    else:\n",
    "        label_df.loc[i, 'label'] = 0\n",
    "    i = i+1\n",
    "label_df.to_csv(r'\\\\mega\\syli\\dataset\\endometrial cancer\\label1.csv',index=False,encoding=\"utf_8_sig\")"
   ]
  },
  {
   "cell_type": "code",
   "execution_count": 5,
   "id": "79bae2c2",
   "metadata": {},
   "outputs": [],
   "source": [
    "#合并label和feature\n",
    "path=r'\\\\mega\\syli\\dataset\\Primary and metastatic\\test\\T1\\T1_feature_4.csv'\n",
    "label_path=r'\\\\mega\\syli\\dataset\\Primary and metastatic\\info.csv'\n",
    "df1=pd.read_csv(path)   #可设置stp\n",
    "df2=pd.read_csv(label_path)[['CaseName','label']]\n",
    "df5=pd.merge(df2,df1)   #合并数据表,需要共同的列\n",
    "#df2.insert(1,'label',df3)  #插入列\n",
    "df5.to_csv(r'\\\\mega\\syli\\dataset\\Primary and metastatic\\test\\T1\\minmax_4\\T1.csv',index=False,encoding=\"utf_8_sig\")\n",
    "#os.mkdir(r'\\\\mega\\syli\\dataset\\endometrial cancer\\data' + f'\\\\{modal}_result')"
   ]
  },
  {
   "cell_type": "code",
   "execution_count": 49,
   "id": "8d18fd90",
   "metadata": {},
   "outputs": [],
   "source": [
    "#特征表提取文件有的\n",
    "key = 'MRID'\n",
    "dirs = os.listdir(r'\\\\mega\\syli\\dataset\\EC_seg\\process_lnm_new\\process_lnm_new')\n",
    "dirs_df = pd.DataFrame(dirs, columns=[key], dtype='str')\n",
    "df = pd.read_excel(r'\\\\mega\\MRIData\\Red-House\\EC_seg\\lnm positive_1.xlsx', sheet_name='合计', dtype='str')\n",
    "fin_df = pd.merge(dirs_df, df, on=key)\n",
    "fin_df.to_csv(r'\\\\mega\\syli\\dataset\\EC_seg\\process_lnm_new\\new_info.csv',index=False,encoding=\"utf_8_sig\")"
   ]
  },
  {
   "cell_type": "code",
   "execution_count": 15,
   "id": "2f94e17b",
   "metadata": {},
   "outputs": [],
   "source": [
    "#多个表格提取数据\n",
    "import pandas as pd\n",
    "import numpy as np\n",
    "import os\n",
    "filespath = r'\\\\mega\\syli\\dataset\\EC_all_process_data'\n",
    "files = os.listdir(filespath)\n",
    "files_1 = [x for x in files if 'y' not in x]\n",
    "files_df_1 = pd.DataFrame(files_1, columns=['ID'], dtype='int64')\n",
    "files_df_2 = pd.DataFrame(files, columns=['ID'])\n",
    "#files_df = pd.to_numeric(files_df)\n",
    "df1 = pd.read_excel('//mega\\syli\\dataset/all_frame/biao1.xlsx')\n",
    "df1.rename(columns={'病案号':'ID'}, inplace=True)\n",
    "sum_df = df1[['ID','淋巴结转移阳性','出院日期','发病年龄','身高','体重','病理类型']]\n",
    "df2 = pd.read_excel('//mega\\syli\\dataset/all_frame/biao2.xlsx')\n",
    "df2.rename(columns={'病案号':'ID'}, inplace=True)\n",
    "sum_df = pd.concat([sum_df,df2[['ID','淋巴结转移阳性','出院日期','发病年龄','身高','体重','病理类型']]])\n",
    "df3 = pd.read_excel('//mega\\syli\\dataset/all_frame/biao3.xlsx')\n",
    "df3.rename(columns={'影像号':'ID'}, inplace=True)\n",
    "sum_df = pd.concat([sum_df,df3[['ID','淋巴结转移阳性','手术日期','发病年龄','身高','体重','病理类型']]])\n",
    "df4 = pd.read_excel('//mega\\syli\\dataset/all_frame/biao4.xlsx')[['MRID','淋巴结转移阳性','手术日期','发病年龄','身高','体重','病理类型']]\n",
    "df4.rename(columns={'MRID':'ID','手术日期':'出院日期'}, inplace=True)\n",
    "#df4 = df4[~df4['ID'].isin(['5346549'])]\n",
    "sum_df = pd.concat([sum_df,df4])\n",
    "all_df_1 = pd.merge(files_df_1, sum_df)\n",
    "all_df_2 = pd.merge(files_df_2, sum_df)\n",
    "all_df = pd.concat([all_df_1, all_df_2])\n",
    "all_df.drop_duplicates(subset=['ID','淋巴结转移阳性','出院日期','发病年龄','身高','体重','病理类型'], keep='first', inplace=True)\n",
    "all_df.to_excel(r'\\\\mega\\syli\\dataset\\all_frame/fin_df_1.xlsx', index=False)"
   ]
  },
  {
   "cell_type": "code",
   "execution_count": 14,
   "id": "325f1839",
   "metadata": {},
   "outputs": [
    {
     "name": "stdout",
     "output_type": "stream",
     "text": [
      "     淋巴结转移阳性      病案号         ID             门诊号码   姓名  出院科室   出院日期  \\\n",
      "0          1  1119981  y00078790  131001002357819  包美珍  29病房  43674   \n",
      "1          1  1100017  y00026672        P03940593  卞晓明  28病房  43603   \n",
      "2          1  1219488  102570437        J01789566  卞雪媛  28病房  44194   \n",
      "3          1  1142222  y00120925        G05764938  曹志萍  28病房  43795   \n",
      "4          1  1108641  y00047850  131001002284508  陈女珍   八病房  43627   \n",
      "..       ...      ...        ...              ...  ...   ...    ...   \n",
      "100        1  1082129  y00002416  131001002186100  赵春玲  28病房  43500   \n",
      "101        1  1212156  102535106  131001002627627  赵凤兰  29病房  44136   \n",
      "102        1  1212895  102551345  131001002641459  赵红红  30病房  44145   \n",
      "103        1  1076589    5836678        J05237822  周裕梅  30病房  43477   \n",
      "104        1  1087572  y00005088  131001002127500  朱凤仙  30病房  43530   \n",
      "\n",
      "              电话          电话2  电话3  ... 术后化疗次数 术后放疗（0=无， 1=后装 2=盆腔外照射 3=1+2）  \\\n",
      "0    13075700068  13057705771  NaN  ...      2                             0   \n",
      "1    18916548203          NaN  NaN  ...      6                             0   \n",
      "2    15601782009  13651803048  NaN  ...      无                             1   \n",
      "3    13482179765  13391236362  NaN  ...      0                             0   \n",
      "4    15858103258          NaN  NaN  ...      4                             0   \n",
      "..           ...          ...  ...  ...    ...                           ...   \n",
      "100  18055728064  15178235138  NaN  ...      1                             0   \n",
      "101  18258995390  18879343951  NaN  ...      无                             1   \n",
      "102  13541254141  15962766939  NaN  ...      无                        999999   \n",
      "103  13621607261  13918125903  NaN  ...      9                             0   \n",
      "104  18168329870  15301777080  NaN  ...      3                             0   \n",
      "\n",
      "                              随访日期  随访情况1（0 存活 1因病死亡 2 因其他原因死亡）  \\\n",
      "0                              NaN                          NaN   \n",
      "1                              NaN                          NaN   \n",
      "2    TI方案（安素泰240mg D1+异环磷酰胺2000mg）                          1.0   \n",
      "3                              NaN                          NaN   \n",
      "4                              NaN                          NaN   \n",
      "..                             ...                          ...   \n",
      "100                            NaN                          NaN   \n",
      "101         TC方案（紫杉醇240mg+卡铂750mg）                          1.0   \n",
      "102                              无                          0.0   \n",
      "103                            NaN                          NaN   \n",
      "104                            NaN                          NaN   \n",
      "\n",
      "     有无复发（0=无， 1=有）  其他死亡原因 总生存时间（月）  术后复发时间（术后？月）  复发部位（0盆腔1其他打中文）  \\\n",
      "0               NaN     NaN      NaN           NaN              NaN   \n",
      "1               NaN     NaN      NaN           NaN              NaN   \n",
      "2               0.0     NaN      NaN           NaN              NaN   \n",
      "3               NaN     NaN      NaN           NaN              NaN   \n",
      "4               NaN     NaN      NaN           NaN              NaN   \n",
      "..              ...     ...      ...           ...              ...   \n",
      "100             NaN     NaN      NaN           NaN              NaN   \n",
      "101             0.0     NaN      NaN           NaN              NaN   \n",
      "102             0.0     NaN      NaN           NaN              NaN   \n",
      "103             NaN     NaN      NaN           NaN              NaN   \n",
      "104             NaN     NaN      NaN           NaN              NaN   \n",
      "\n",
      "    复发后处理（0观察1化疗2放疗3放化疗4再次手术5中药）  \n",
      "0                            NaN  \n",
      "1                            NaN  \n",
      "2                            NaN  \n",
      "3                            NaN  \n",
      "4                            NaN  \n",
      "..                           ...  \n",
      "100                          NaN  \n",
      "101                          NaN  \n",
      "102                          NaN  \n",
      "103                          NaN  \n",
      "104                          NaN  \n",
      "\n",
      "[105 rows x 131 columns]\n"
     ]
    }
   ],
   "source": [
    "import pandas as pd\n",
    "my_df = pd.read_excel(r'\\\\mega\\syli\\dataset\\all_frame\\fin_df_1.xlsx')\n",
    "jie_df = pd.read_csv(r'C:\\Users\\handsome\\Documents\\WeChat Files\\wxid_hncq0l75v1pq21\\FileStorage\\File\\2022-03\\lnm_label.csv')\n",
    "a = my_df['ID'].values.tolist()\n",
    "a = [str(i) for i in a]\n",
    "my_df['ID'] = a\n",
    "b = jie_df['ID'].values.tolist()\n",
    "print(list(set(a).difference(set(b))))\n",
    "print(list(set(b).difference(set(a))))\n",
    "# my_df = my_df.set_index('ID')\n",
    "# jie_df = jie_df.set_index('ID')\n",
    "new_df = pd.merge(my_df, jie_df)\n",
    "for index, row in new_df.iterrows():\n",
    "    if row['label'] != row['淋巴结转移阳性']:\n",
    "        print(row['ID'], row['label'], row['淋巴结转移阳性'])"
   ]
  },
  {
   "cell_type": "code",
   "execution_count": 11,
   "id": "57bd6e88",
   "metadata": {},
   "outputs": [
    {
     "name": "stdout",
     "output_type": "stream",
     "text": [
      "          ID  淋巴结转移阳性       出院日期  发病年龄     身高    体重 病理类型   手术日期\n",
      "0    1089166      1.0 2019-03-07  39.0    NaN   NaN    1    NaN\n",
      "1    1087410      1.0 2019-03-11  50.0  162.0  55.0    1    NaN\n",
      "2    1076589      1.0 2019-01-12  56.0  162.0  55.0    1    NaN\n",
      "3    1118572      1.0 2019-08-03  45.0    NaN   NaN    1    NaN\n",
      "4    1089686      1.0 2019-03-08  50.0    NaN   NaN    1    NaN\n",
      "..       ...      ...        ...   ...    ...   ...  ...    ...\n",
      "737  5676147      0.0        NaT    63    NaN   NaN    1  43171\n",
      "738  5678445      0.0        NaT    64    NaN   NaN    1  43175\n",
      "739  5679477      0.0        NaT    54    NaN   NaN    1  43178\n",
      "740  5678448      0.0        NaT    55    NaN   NaN    1  43178\n",
      "741  5671128      0.0        NaT    36    NaN   NaN    1  43182\n",
      "\n",
      "[1756 rows x 8 columns]\n"
     ]
    }
   ],
   "source": [
    "print(sum_df)"
   ]
  },
  {
   "cell_type": "code",
   "execution_count": null,
   "id": "2959fc9b",
   "metadata": {},
   "outputs": [],
   "source": []
  }
 ],
 "metadata": {
  "kernelspec": {
   "display_name": "Python 3",
   "language": "python",
   "name": "python3"
  },
  "language_info": {
   "codemirror_mode": {
    "name": "ipython",
    "version": 3
   },
   "file_extension": ".py",
   "mimetype": "text/x-python",
   "name": "python",
   "nbconvert_exporter": "python",
   "pygments_lexer": "ipython3",
   "version": "3.8.8"
  }
 },
 "nbformat": 4,
 "nbformat_minor": 5
}