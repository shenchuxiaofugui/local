{
 "cells": [
  {
   "cell_type": "code",
   "execution_count": 1,
   "id": "47f2b4e3",
   "metadata": {},
   "outputs": [],
   "source": [
    "import os"
   ]
  },
  {
   "cell_type": "code",
   "execution_count": 13,
   "id": "9b748562",
   "metadata": {},
   "outputs": [
    {
     "name": "stdout",
     "output_type": "stream",
     "text": [
      "['\\\\\\\\mega\\\\syli\\\\dataset\\\\Primary and metastatic\\\\Primary\\\\5341777\\\\WANG_HAI_LIN.MR.PELVIS_GENARAL.0004.0042.2017.11.19.09.00.35.515625.60700705.t2.nii.gz']\n",
      "['\\\\\\\\mega\\\\syli\\\\dataset\\\\Primary and metastatic\\\\Primary\\\\5341777\\\\WANG_HAI_LIN.MR.PELVIS_GENARAL.0004.0042.2017.11.19.09.00.35.515625.60700705.t2.nii.gz', '\\\\\\\\mega\\\\syli\\\\dataset\\\\Primary and metastatic\\\\Primary\\\\5439269\\\\05439269_20160629_8_191.t1.nii.gz']\n"
     ]
    }
   ],
   "source": [
    "#文件整理后改名\n",
    "filepath=r'\\\\mega\\syli\\dataset\\Primary and metastatic\\Primary'\n",
    "files=os.listdir(filepath)\n",
    "a=[]\n",
    "for file1 in files:\n",
    "    path=filepath+'\\\\'+file1\n",
    "    dirs=os.listdir(path)\n",
    "    for file in dirs:\n",
    "        if file[-2:]=='gz':\n",
    "            ori_roi=path+'\\\\'+file\n",
    "            ori_img=path+'\\\\'+file[:-10]+'.nii'\n",
    "            try:\n",
    "                if file[-9:-7] == 't1':\n",
    "                    new_roi=path+'\\\\'+'T1_roi.nii.gz'\n",
    "                    new_img=path+'\\\\'+'T1.nii'\n",
    "                    os.rename(ori_roi,new_roi)\n",
    "                    os.rename(ori_img,new_img)\n",
    "                elif file[-9:-7] == 't2':\n",
    "                    new_roi=path+'\\\\'+'T2_roi.nii.gz'\n",
    "                    new_img=path+'\\\\'+'T2.nii'\n",
    "                    os.rename(ori_roi,new_roi)\n",
    "                    os.rename(ori_img,new_img)\n",
    "                elif file[-10:-7] == 'dwi':\n",
    "                    ori_img=path+'\\\\'+file[:-11]+'.nii'\n",
    "                    new_roi=path+'\\\\'+'DWI_roi.nii.gz'\n",
    "                    new_img=path+'\\\\'+'DWI.nii'\n",
    "                    os.rename(ori_roi,new_roi)\n",
    "                    os.rename(ori_img,new_img)\n",
    "                elif file[-9:-7] == '+c':\n",
    "                    new_roi=path+'\\\\'+'T1CE_roi.nii.gz'\n",
    "                    new_img=path+'\\\\'+'T1CE.nii'\n",
    "                    os.rename(ori_roi,new_roi)\n",
    "                    os.rename(ori_img,new_img)\n",
    "            except:\n",
    "                a.append(ori_roi)\n",
    "                print(a)"
   ]
  },
  {
   "cell_type": "code",
   "execution_count": 12,
   "id": "b40f4965",
   "metadata": {},
   "outputs": [],
   "source": [
    "filepath=r'\\\\mega\\syli\\dataset\\Primary and metastatic\\metastatic'\n",
    "files=os.listdir(filepath)\n",
    "a=[]\n",
    "for file1 in files:\n",
    "    path=filepath+'\\\\'+file1\n",
    "    dirs=os.listdir(path)\n",
    "    for file in dirs:\n",
    "        if len(file)>16:\n",
    "            ori_img=path+'\\\\'+file\n",
    "            new_img=path+'\\\\'+'DWI.nii'\n",
    "            os.rename(ori_img,new_img)"
   ]
  },
  {
   "cell_type": "code",
   "execution_count": 58,
   "id": "2b5c100e",
   "metadata": {},
   "outputs": [
    {
     "data": {
      "text/plain": [
       "pinyin\n",
       "MAO_HAO_PING         05382935\n",
       "XU_XIA               05686356\n",
       "QIAN_MENG_YUE        05476847\n",
       "WU_YU_LIN          y00000910 \n",
       "YAO_XIAO_ZHEN        05158902\n",
       "CHEN_HUI_MIN         05174284\n",
       "YANG_HONG_JIN      y00072196 \n",
       "ZHU_HONG_MEI         05263710\n",
       "ZHANG_HAO_SHI        05316800\n",
       "YAO_MEI            y00000498 \n",
       "ZHOU_JING          y00001220 \n",
       "ZHAO_JIAN_WEN        05454772\n",
       "WANG_YU_QIN          05497209\n",
       "ZHOU_RONG          y00000198 \n",
       "YU_LI_LI             05362831\n",
       "LIU_LI_LI          y00000803 \n",
       "HUANG_PING_YANG    y00000500 \n",
       "YIN_QIN_FANG         05493775\n",
       "LU_RUI_ZHEN          05430403\n",
       "LIN_JING             05526414\n",
       "FENG_LIN             05414876\n",
       "XU_MEI_ZHONG         05533995\n",
       "CAO_JIN_MEI          05293093\n",
       "SHEN_YE_QING       y00000808 \n",
       "CHANG_JUAN           05269085\n",
       "JIA_YUAN_YUAN      y00000406 \n",
       "JIN_MEI_HUA        y00000248 \n",
       "WU_WEN_TING        y00000493 \n",
       "ZHAN_XIAO_WEI        05111618\n",
       "LV_SHA             y00000468 \n",
       "LU_YAN               05261089\n",
       "LIANG_XIAO_MING      05263662\n",
       "WANG_NING          y00000978 \n",
       "YAO_PING             05400512\n",
       "LIU_AI_BIN           05646085\n",
       "JIANG_BO             05332000\n",
       "CHEN_YU_PEI        y00000267 \n",
       "HUANG_JING           05352094\n",
       "LI_XUE_MEI           05401856\n",
       "WAN_YIN_XIU          05470493\n",
       "WANG_SHAN_SHAN     y00000509 \n",
       "ZHOU_GUI_DI          05488890\n",
       "LI_MIN             y00000831 \n",
       "HUA_LI_PING        y00077097 \n",
       "PAN_XIU_QIN          05820627\n",
       "JIANG_WEI            05462562\n",
       "ZHAO_YING_BO         05271012\n",
       "XU_RUI               05674569\n",
       "HUANG_MEI_FANG       05352132\n",
       "WANG_MEI           y00000345 \n",
       "LI_YING             y00101610\n",
       "HE_BO_QIN            05468193\n",
       "LIU_XIAO_JING      y00000457 \n",
       "LIAN_MIN_FEI       y00000744 \n",
       "XU_RU_PING           05342025\n",
       "XU_KOU_MEI           05123720\n",
       "Name: id, dtype: object"
      ]
     },
     "execution_count": 58,
     "metadata": {},
     "output_type": "execute_result"
    }
   ],
   "source": [
    "from xpinyin import Pinyin\n",
    "import pandas as pd\n",
    "path=r'\\\\mega\\syli\\dataset\\neimo\\eaoc+final+reading+data2(1).xlsx'\n",
    "df=pd.read_excel(path) \n",
    "p = Pinyin()\n",
    "a = []\n",
    "for i in df1['Name']:\n",
    "    a.append(p.get_pinyin(i,'_').upper())\n",
    "df.insert(df.columns.get_loc('Name')+1,'pinyin', a)\n",
    "new_df = df.set_index('pinyin').iloc[:,0]\n",
    "new_df"
   ]
  },
  {
   "cell_type": "code",
   "execution_count": 35,
   "id": "9aa41fbe",
   "metadata": {},
   "outputs": [
    {
     "name": "stdout",
     "output_type": "stream",
     "text": [
      "5.398344911.T1+.GZ.NII.GZ\n"
     ]
    },
    {
     "data": {
      "text/plain": [
       "'\\\\\\\\mega\\\\syli\\\\dataset\\\\neimo\\\\eaoc\\\\CHEN_YU_PEI\\\\T1+_roi.nii.gz'"
      ]
     },
     "execution_count": 35,
     "metadata": {},
     "output_type": "execute_result"
    }
   ],
   "source": [
    "import os\n",
    "def rename(filepath, modals):\n",
    "    filename = os.path.basename(filepath)\n",
    "    filename = filename[-25:].upper()\n",
    "    filename = filename.replace('TI', 'T1')\n",
    "    if filename[-3:] == 'NII':\n",
    "        houzhui = '.nii'\n",
    "    else:\n",
    "        houzhui = '_roi.nii.gz'\n",
    "    new_path = os.path.dirname(filepath)\n",
    "    print(filename)\n",
    "    for modal in modals:\n",
    "        if modal in filename:\n",
    "            if modal == 'T1':\n",
    "                if 'T1+' not in filename:\n",
    "                    new_name = os.path.join(new_path, modal)\n",
    "                    print(modal)\n",
    "            else:\n",
    "                new_name = os.path.join(new_path, modal)\n",
    "    new_name = new_name + houzhui\n",
    "    return new_name\n",
    "filepath=r'\\\\mega\\syli\\dataset\\neimo\\eaoc\\CHEN_YU_PEI\\HUA_LI_PING.MR.PELVIS_GENARAL.0036.0014.2021.11.16.12.30.52.46875.398344911.ti+.gz.nii.gz'\n",
    "a = rename(filepath, ['T1','T1+'])\n",
    "a"
   ]
  },
  {
   "cell_type": "code",
   "execution_count": null,
   "id": "0fd5c7ac",
   "metadata": {},
   "outputs": [],
   "source": [
    "help"
   ]
  }
 ],
 "metadata": {
  "kernelspec": {
   "display_name": "Python 3",
   "language": "python",
   "name": "python3"
  },
  "language_info": {
   "codemirror_mode": {
    "name": "ipython",
    "version": 3
   },
   "file_extension": ".py",
   "mimetype": "text/x-python",
   "name": "python",
   "nbconvert_exporter": "python",
   "pygments_lexer": "ipython3",
   "version": "3.8.8"
  }
 },
 "nbformat": 4,
 "nbformat_minor": 5
}
