{
 "cells": [
  {
   "cell_type": "code",
   "execution_count": 1,
   "id": "47f2b4e3",
   "metadata": {},
   "outputs": [],
   "source": [
    "import os"
   ]
  },
  {
   "cell_type": "code",
   "execution_count": 13,
   "id": "9b748562",
   "metadata": {},
   "outputs": [
    {
     "name": "stdout",
     "output_type": "stream",
     "text": [
      "['\\\\\\\\mega\\\\syli\\\\dataset\\\\Primary and metastatic\\\\Primary\\\\5341777\\\\WANG_HAI_LIN.MR.PELVIS_GENARAL.0004.0042.2017.11.19.09.00.35.515625.60700705.t2.nii.gz']\n",
      "['\\\\\\\\mega\\\\syli\\\\dataset\\\\Primary and metastatic\\\\Primary\\\\5341777\\\\WANG_HAI_LIN.MR.PELVIS_GENARAL.0004.0042.2017.11.19.09.00.35.515625.60700705.t2.nii.gz', '\\\\\\\\mega\\\\syli\\\\dataset\\\\Primary and metastatic\\\\Primary\\\\5439269\\\\05439269_20160629_8_191.t1.nii.gz']\n"
     ]
    }
   ],
   "source": [
    "filepath=r'\\\\mega\\syli\\dataset\\Primary and metastatic\\Primary'\n",
    "files=os.listdir(filepath)\n",
    "a=[]\n",
    "for file1 in files:\n",
    "    path=filepath+'\\\\'+file1\n",
    "    dirs=os.listdir(path)\n",
    "    for file in dirs:\n",
    "        if file[-2:]=='gz':\n",
    "            ori_roi=path+'\\\\'+file\n",
    "            ori_img=path+'\\\\'+file[:-10]+'.nii'\n",
    "            try:\n",
    "                if file[-9:-7] == 't1':\n",
    "                    new_roi=path+'\\\\'+'T1_roi.nii.gz'\n",
    "                    new_img=path+'\\\\'+'T1.nii'\n",
    "                    os.rename(ori_roi,new_roi)\n",
    "                    os.rename(ori_img,new_img)\n",
    "                elif file[-9:-7] == 't2':\n",
    "                    new_roi=path+'\\\\'+'T2_roi.nii.gz'\n",
    "                    new_img=path+'\\\\'+'T2.nii'\n",
    "                    os.rename(ori_roi,new_roi)\n",
    "                    os.rename(ori_img,new_img)\n",
    "                elif file[-10:-7] == 'dwi':\n",
    "                    ori_img=path+'\\\\'+file[:-11]+'.nii'\n",
    "                    new_roi=path+'\\\\'+'DWI_roi.nii.gz'\n",
    "                    new_img=path+'\\\\'+'DWI.nii'\n",
    "                    os.rename(ori_roi,new_roi)\n",
    "                    os.rename(ori_img,new_img)\n",
    "                elif file[-9:-7] == '+c':\n",
    "                    new_roi=path+'\\\\'+'T1CE_roi.nii.gz'\n",
    "                    new_img=path+'\\\\'+'T1CE.nii'\n",
    "                    os.rename(ori_roi,new_roi)\n",
    "                    os.rename(ori_img,new_img)\n",
    "            except:\n",
    "                a.append(ori_roi)\n",
    "                print(a)"
   ]
  },
  {
   "cell_type": "code",
   "execution_count": 8,
   "id": "76846cca",
   "metadata": {},
   "outputs": [
    {
     "data": {
      "text/plain": [
       "'WANG_HAI_LIN.MR.PELVIS_GENARAL.0007.0020.2017.11.19.09.00.35.515625.60704846'"
      ]
     },
     "execution_count": 8,
     "metadata": {},
     "output_type": "execute_result"
    }
   ],
   "source": [
    "b='WANG_HAI_LIN.MR.PELVIS_GENARAL.0007.0020.2017.11.19.09.00.35.515625.60704846.dwi.nii.gz'\n",
    "b[:-11]\n",
    "#os.path.exists(r'\\\\mega\\syli\\dataset\\Primary and metastatic\\metastatic')"
   ]
  },
  {
   "cell_type": "code",
   "execution_count": 12,
   "id": "b40f4965",
   "metadata": {},
   "outputs": [],
   "source": [
    "filepath=r'\\\\mega\\syli\\dataset\\Primary and metastatic\\metastatic'\n",
    "files=os.listdir(filepath)\n",
    "a=[]\n",
    "for file1 in files:\n",
    "    path=filepath+'\\\\'+file1\n",
    "    dirs=os.listdir(path)\n",
    "    for file in dirs:\n",
    "        if len(file)>16:\n",
    "            ori_img=path+'\\\\'+file\n",
    "            new_img=path+'\\\\'+'DWI.nii'\n",
    "            os.rename(ori_img,new_img)"
   ]
  },
  {
   "cell_type": "code",
   "execution_count": 3,
   "id": "7753b05c",
   "metadata": {},
   "outputs": [
    {
     "name": "stdout",
     "output_type": "stream",
     "text": [
      "baixiaosu\n",
      "guohonglan\n",
      "houyujie\n",
      "jiaxinqiang\n",
      "limawa\n",
      "lishuimu\n",
      "maoyanjie\n",
      "wangmeixiang\n",
      "wangmiao\n",
      "wangna\n",
      "xuxiaodeng\n",
      "zhangyuxin\n",
      "zhukunpeng\n"
     ]
    }
   ],
   "source": [
    "filepath=r'C:\\Users\\handsome\\Desktop\\linshi'\n",
    "files=os.listdir(filepath)\n",
    "for file in files:\n",
    "    print(file[:-4])"
   ]
  },
  {
   "cell_type": "code",
   "execution_count": null,
   "id": "9aa41fbe",
   "metadata": {},
   "outputs": [],
   "source": []
  }
 ],
 "metadata": {
  "kernelspec": {
   "display_name": "Python 3",
   "language": "python",
   "name": "python3"
  },
  "language_info": {
   "codemirror_mode": {
    "name": "ipython",
    "version": 3
   },
   "file_extension": ".py",
   "mimetype": "text/x-python",
   "name": "python",
   "nbconvert_exporter": "python",
   "pygments_lexer": "ipython3",
   "version": "3.8.8"
  }
 },
 "nbformat": 4,
 "nbformat_minor": 5
}
