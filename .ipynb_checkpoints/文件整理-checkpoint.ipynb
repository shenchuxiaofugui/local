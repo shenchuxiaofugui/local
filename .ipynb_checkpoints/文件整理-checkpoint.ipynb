{
 "cells": [
  {
   "cell_type": "code",
   "execution_count": 1,
   "id": "47f2b4e3",
   "metadata": {},
   "outputs": [],
   "source": [
    "import os"
   ]
  },
  {
   "cell_type": "code",
   "execution_count": 3,
   "id": "9b748562",
   "metadata": {},
   "outputs": [
    {
     "name": "stdout",
     "output_type": "stream",
     "text": [
      "WANG_HAI_LIN.MR.PELVIS_GENARAL.0003.0042.2017.11.19.09.00.35.515625.60699064.nii\n",
      "WANG_HAI_LIN.MR.PELVIS_GENARAL.0003.0042.2017.11.19.09.00.35.515625.60699064.t2.nii.gz\n",
      "WANG_HAI_LIN.MR.PELVIS_GENARAL.0004.0042.2017.11.19.09.00.35.515625.60700705.nii\n",
      "WANG_HAI_LIN.MR.PELVIS_GENARAL.0004.0042.2017.11.19.09.00.35.515625.60700705.t2.nii.gz\n",
      "WANG_HAI_LIN.MR.PELVIS_GENARAL.0007.0020.2017.11.19.09.00.35.515625.60704846.dwi.nii.gz\n",
      "WANG_HAI_LIN.MR.PELVIS_GENARAL.0007.0020.2017.11.19.09.00.35.515625.60704846.nii\n",
      "WANG_HAI_LIN.MR.PELVIS_GENARAL.0032.0001.2017.11.19.09.00.35.515625.60730617.+c.nii.gz\n",
      "WANG_HAI_LIN.MR.PELVIS_GENARAL.0032.0001.2017.11.19.09.00.35.515625.60730617.nii\n"
     ]
    }
   ],
   "source": [
    "path=r'C:\\Users\\handsome\\Desktop\\5341777'\n",
    "dirs = os.listdir( path )\n",
    "for file in dirs:\n",
    "    if file[-2:-0] == 'gz':\n",
    "        ori_roi_file=r'C:\\Users\\handsome\\Desktop\\5341777\\\\'+file\n",
    "        ori_file=r'C:\\Users\\handsome\\Desktop\\5341777\\\\'+file[:-10]+'.nii'\n",
    "        if file[-9:-7] =='t1':\n",
    "            roi_file=r'C:\\Users\\handsome\\Desktop\\5341777'+'\\\\T1_roi.nii'\n",
    "            new_file=r'C:\\Users\\handsome\\Desktop\\5341777\\\\'+'T1.nii'\n",
    "            try:\n",
    "                os.rename(ori_roi_file,roi_file)\n",
    "                os.rename()\n",
    "    print(file)"
   ]
  },
  {
   "cell_type": "code",
   "execution_count": 13,
   "id": "76846cca",
   "metadata": {},
   "outputs": [
    {
     "data": {
      "text/plain": [
       "True"
      ]
     },
     "execution_count": 13,
     "metadata": {},
     "output_type": "execute_result"
    }
   ],
   "source": [
    "a='WANG_HAI_LIN.MR.PELVIS_GENARAL.0003.0042.2017.11.19.09.00.35.515625.60699064.t2.nii.gz'\n",
    "a[:-10]\n",
    "os.path.exists(r'C:\\Users\\handsome\\Desktop\\5341777\\\\'+file)"
   ]
  },
  {
   "cell_type": "code",
   "execution_count": null,
   "id": "b40f4965",
   "metadata": {},
   "outputs": [],
   "source": []
  }
 ],
 "metadata": {
  "kernelspec": {
   "display_name": "Python 3",
   "language": "python",
   "name": "python3"
  },
  "language_info": {
   "codemirror_mode": {
    "name": "ipython",
    "version": 3
   },
   "file_extension": ".py",
   "mimetype": "text/x-python",
   "name": "python",
   "nbconvert_exporter": "python",
   "pygments_lexer": "ipython3",
   "version": "3.8.8"
  }
 },
 "nbformat": 4,
 "nbformat_minor": 5
}
