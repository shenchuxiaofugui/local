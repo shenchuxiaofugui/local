{
 "cells": [
  {
   "cell_type": "code",
   "execution_count": 1,
   "id": "86b4a7bf",
   "metadata": {},
   "outputs": [],
   "source": [
    "import os\n",
    "import SimpleITK as sitk\n",
    "import scipy.ndimage\n",
    "import numpy as np"
   ]
  },
  {
   "cell_type": "code",
   "execution_count": 5,
   "id": "552a0c6e",
   "metadata": {},
   "outputs": [
    {
     "name": "stdout",
     "output_type": "stream",
     "text": [
      "CENGXIANGSHEN_MR0250205 (20, 640, 640)\n",
      "CHENQIFEI_MR0256859 (20, 640, 640)\n",
      "CHENSHANGHUAN_MR0265147 (20, 640, 640)\n",
      "CHEN_LEI_MR0296177A (20, 640, 640)\n",
      "CHEN_NAI_LI_MR0309155 (20, 640, 640)\n",
      "FENG_AI_JIAO_MR0366142 (20, 640, 640)\n",
      "HAN_YOU_XIAN_MR0284188 (20, 640, 640)\n",
      "HUANGDINGGUANG_MR0252777 (22, 640, 640)\n",
      "JIANG_MIN_RONG_MR0393510 (23, 384, 384)\n",
      "LICHUNHAO_MR0264897 (20, 640, 640)\n",
      "LINAIZHU_MR0263061A (20, 640, 640)\n",
      "LINLE_MR0250860 (20, 640, 640)\n",
      "LIN_QIAN_MR0377733 (20, 640, 640)\n",
      "LIYUHUA_MR0260808 (20, 640, 640)\n",
      "LI_LIN_DONG_MR0239004 (20, 640, 640)\n",
      "LI_QIAO_YAN_MR0304598 (20, 384, 384)\n",
      "MO_CAI_YING_MR0307405 (20, 384, 384)\n",
      "PAN_YU_YUAN_MR0369595 (20, 640, 640)\n",
      "SUFA_MR0268303 (20, 640, 640)\n",
      "WANGCHUNHUA_MR0265872 (20, 640, 640)\n",
      "WUCHENWEN_MR0234517 (20, 640, 640)\n",
      "WU_JIAN_XING_MR0311912 (20, 384, 384)\n",
      "YANGWENHUAN_MR0262397 (20, 640, 640)\n",
      "YANG_ZHI_SHENG_MR0317097 (22, 640, 640)\n",
      "YU_MENG_QIN_MR0320787A (22, 640, 640)\n",
      "ZHANG_HONG_ZHEN_MR0297671 (20, 384, 384)\n",
      "ZHANJIANGHAI_MR0269696 (20, 640, 640)\n",
      "ZHENG_GUO_RI_MR0296852 (20, 384, 384)\n",
      "ZHENG_JIA_YU_MR0347232 (23, 384, 384)\n",
      "ZHENG_MEI_YUN_MR0310464 (20, 384, 384)\n",
      "ZHENG_YUAN_NIAN_MR0345560 (23, 384, 384)\n",
      "ZHONGTAOYING_MR0263585 (20, 640, 640)\n",
      "ZHU_XIAN_ZHONG_MR0295403 (20, 384, 384)\n"
     ]
    }
   ],
   "source": [
    "#查看哪些文件是大小不标准的\n",
    "path=r'D:\\python\\dataset\\GBM-radiomics\\GBM-Radiomics map'\n",
    "dirs = os.listdir( path )\n",
    "for file in dirs:\n",
    "    file1=path+'\\\\'+file+'\\\\CBV.nii'\n",
    "    img=sitk.ReadImage(file1)\n",
    "    b=sitk.GetArrayFromImage(img)\n",
    "    if b.shape != (22,384,384) and b.shape != (24,384,384):\n",
    "        print(file,b.shape)"
   ]
  },
  {
   "cell_type": "code",
   "execution_count": 14,
   "id": "71f501a3",
   "metadata": {},
   "outputs": [],
   "source": [
    "# mri图像的配准\n",
    "for file in dirs:\n",
    "    file1=path+'\\\\'+file+'\\\\CBV.nii'\n",
    "    img=sitk.ReadImage(file1)\n",
    "    spacing = img.GetSpacing()\n",
    "    direction = img.GetDirection()\n",
    "    origin = img.GetOrigin()\n",
    "    size = img.GetSize()\n",
    "    b=sitk.GetArrayFromImage(img)\n",
    "    if b.shape==(20,640,640) or b.shape==(22,640,640):\n",
    "        b=scipy.ndimage.interpolation.zoom(b,(1,384/640,384/640),order=3 )   \n",
    "    img1=sitk.GetImageFromArray(b)\n",
    "    img1.SetSpacing(spacing)\n",
    "    img1.SetDirection(direction)\n",
    "    img1.SetOrigin(origin)           #图片信息也得设置，roi也得该\n",
    "    #print(img1.GetSize(),path+file)\n",
    "    sitk.WriteImage(img1,path+'\\\\'+file+'\\\\CBVgai.nii')"
   ]
  },
  {
   "cell_type": "code",
   "execution_count": 15,
   "id": "638cc9ed",
   "metadata": {},
   "outputs": [],
   "source": [
    "#roi图像的配准\n",
    "for file in dirs:\n",
    "    file1=path+'\\\\'+file+'\\\\roi_2.nii'\n",
    "    if os.path.exists(file1):\n",
    "        img=sitk.ReadImage(file1)\n",
    "        spacing = img.GetSpacing()\n",
    "        direction = img.GetDirection()\n",
    "        origin = img.GetOrigin()\n",
    "        size = img.GetSize()\n",
    "        b=sitk.GetArrayFromImage(img)\n",
    "        if b.shape==(20,640,640) or b.shape==(22,640,640):\n",
    "            b=scipy.ndimage.interpolation.zoom(b,(1,384/640,384/640),order=3 )\n",
    "            b=np.round(b)\n",
    "        img1=sitk.GetImageFromArray(b)\n",
    "        img1.SetSpacing(spacing)\n",
    "        img1.SetDirection(direction)\n",
    "        img1.SetOrigin(origin)           #图片信息也得设置，roi也得该\n",
    "        #print(img1.GetSize(),path+file)\n",
    "        sitk.WriteImage(img1,path+'\\\\'+file+'\\\\roi_2gai.nii')"
   ]
  },
  {
   "cell_type": "code",
   "execution_count": 6,
   "id": "2d475b25",
   "metadata": {},
   "outputs": [
    {
     "data": {
      "text/plain": [
       "20"
      ]
     },
     "execution_count": 6,
     "metadata": {},
     "output_type": "execute_result"
    }
   ],
   "source": [
    "filepath=r'D:\\python\\dataset\\GBM-radiomics\\GBM-Radiomics map\\CENGXIANGSHEN_MR0250205\\roi_2gai.nii'\n",
    "img=sitk.ReadImage(filepath)\n",
    "b=sitk.GetArrayFromImage(img)\n",
    "img.GetSize()[2]"
   ]
  },
  {
   "cell_type": "code",
   "execution_count": 3,
   "id": "68eb968b",
   "metadata": {},
   "outputs": [],
   "source": [
    "#用simpleitk的配准函数\n",
    "def resize_image_itk(ori_img,target_img,resamplemethod=sitk.sitkNearestNeighbor):\n",
    "    \"\"\"\n",
    "    用itk方法将原始图像resample到与目标图像一致\n",
    "    :param ori_img: 原始需要对齐的itk图像\n",
    "    :param target_img: 要对齐的目标itk图像\n",
    "    :param resamplemethod: itk插值方法: sitk.sitkLinear-线性  sitk.sitkNearestNeighbor-最近邻\n",
    "    :return:img_res_itk: 重采样好的itk图像\n",
    "    使用示范：\n",
    "    import SimpleITK as sitk\n",
    "    target_img = sitk.ReadImage(target_img_file)\n",
    "    ori_img = sitk.ReadImage(ori_img_file)\n",
    "    img_r = resize_image_itk(ori_img, target_img, resamplemethod=sitk.sitkLinear)\n",
    "    \"\"\"\n",
    "    target_Size = target_img.GetSize()      # 目标图像大小  [x,y,z]\n",
    "    target_Spacing = target_img.GetSpacing()   # 目标的体素块尺寸    [x,y,z]\n",
    "    target_origin = target_img.GetOrigin()      # 目标的起点 [x,y,z]\n",
    "    target_direction = target_img.GetDirection()  # 目标的方向 [冠,矢,横]=[z,y,x]\n",
    "\n",
    "    # itk的方法进行resample\n",
    "    resampler = sitk.ResampleImageFilter()\n",
    "    resampler.SetReferenceImage(ori_img)  # 需要重新采样的目标图像\n",
    "    # 设置目标图像的信息\n",
    "    resampler.SetSize(target_Size)\t\t# 目标图像大小\n",
    "    resampler.SetOutputOrigin(target_origin)\n",
    "    resampler.SetOutputDirection(target_direction)\n",
    "    resampler.SetOutputSpacing(target_Spacing)\n",
    "    # 根据需要重采样图像的情况设置不同的dype\n",
    "    if resamplemethod == sitk.sitkNearestNeighbor:\n",
    "        resampler.SetOutputPixelType(sitk.sitkUInt8)   # 近邻插值用于mask的，保存uint8\n",
    "    else:\n",
    "        resampler.SetOutputPixelType(sitk.sitkFloat32)  # 线性插值用于PET/CT/MRI之类的，保存float32\n",
    "    resampler.SetTransform(sitk.Transform(3, sitk.sitkIdentity))    \n",
    "    resampler.SetInterpolator(resamplemethod)\n",
    "    itk_img_resampled = resampler.Execute(ori_img)  # 得到重新采样后的图像\n",
    "    return itk_img_resampled\n"
   ]
  },
  {
   "cell_type": "code",
   "execution_count": 8,
   "id": "a860819f",
   "metadata": {
    "scrolled": true
   },
   "outputs": [],
   "source": [
    "#配准，注意第三个参数设置\n",
    "target_img_file=r'D:\\python\\dataset\\GBM-radiomics\\GBM-Radiomics map\\AI_LIAN_QUAN_MR0401919\\roi_2.nii'\n",
    "target_img = sitk.ReadImage(target_img_file)\n",
    "for file in dirs:\n",
    "    ori_img_file=path+'\\\\'+file+'\\\\roi_2.nii'\n",
    "    ori_img = sitk.ReadImage(ori_img_file)\n",
    "    if ori_img.GetSize()==(640,640,20) or ori_img.GetSize()==(640,640,22):\n",
    "        #print(ori_img.GetSize())\n",
    "        ori_img = resize_image_itk(ori_img, target_img)   #记得设置成线性插值,resamplemethod=sitk.sitkLinear\n",
    "        #print(ori_img.GetSize())\n",
    "    sitk.WriteImage(ori_img,path+'\\\\'+file+'\\\\roi_2gai_1.nii')"
   ]
  },
  {
   "cell_type": "code",
   "execution_count": 8,
   "id": "6208e6e0",
   "metadata": {},
   "outputs": [
    {
     "name": "stdout",
     "output_type": "stream",
     "text": [
      "28 2\n"
     ]
    }
   ],
   "source": [
    "#输出ROI有多少层\n",
    "path=r'\\\\mega\\syli\\dataset\\Primary and metastatic\\Primary'\n",
    "dirs = os.listdir( path )\n",
    "ceng_min=100\n",
    "ceng_max=0\n",
    "for file in dirs:\n",
    "    file1=path+'\\\\'+file+'\\\\DWI_roi.nii.gz'\n",
    "    try:\n",
    "        img=sitk.ReadImage(file1)\n",
    "        b=sitk.GetArrayFromImage(img)\n",
    "        ceng_size=0\n",
    "        for i in b:\n",
    "            if sum(sum(i)) != 0:\n",
    "                ceng_size+=1\n",
    "        if ceng_size<ceng_min:\n",
    "            ceng_min=ceng_size\n",
    "        if ceng_size>ceng_max:\n",
    "            ceng_max=ceng_size\n",
    "    except:\n",
    "        continue\n",
    "print(ceng_max,ceng_min)"
   ]
  },
  {
   "cell_type": "code",
   "execution_count": null,
   "id": "09d3c04d",
   "metadata": {},
   "outputs": [],
   "source": []
  }
 ],
 "metadata": {
  "kernelspec": {
   "display_name": "Python 3",
   "language": "python",
   "name": "python3"
  },
  "language_info": {
   "codemirror_mode": {
    "name": "ipython",
    "version": 3
   },
   "file_extension": ".py",
   "mimetype": "text/x-python",
   "name": "python",
   "nbconvert_exporter": "python",
   "pygments_lexer": "ipython3",
   "version": "3.8.8"
  }
 },
 "nbformat": 4,
 "nbformat_minor": 5
}
