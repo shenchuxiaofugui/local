{
 "cells": [
  {
   "cell_type": "code",
   "execution_count": 1,
   "id": "05f08656",
   "metadata": {},
   "outputs": [],
   "source": [
    "import os\n",
    "import pandas as pd"
   ]
  },
  {
   "cell_type": "code",
   "execution_count": 13,
   "id": "05450ef5",
   "metadata": {},
   "outputs": [],
   "source": [
    "#从文件夹和信息表中取交集生成新表\n",
    "file_path = r'\\\\mega\\syli\\dataset\\neimo\\eaoc'\n",
    "label_path = r'\\\\mega\\syli\\dataset\\neimo\\label.xlsx'\n",
    "file_df = pd.DataFrame(os.listdir(file_path), columns=['MRI-ID'])\n",
    "label_df = pd.read_excel(label_path)\n",
    "fin_df = pd.merge(file_df, label_df)\n",
    "fin_df.rename(columns={'MRI-ID':'CaseName','MT':'label'},inplace=True)\n",
    "fin_df.to_csv(r'\\\\mega\\syli\\dataset\\neimo\\label1.csv',index=False,encoding=\"utf_8_sig\")"
   ]
  },
  {
   "cell_type": "code",
   "execution_count": 15,
   "id": "02304b9b",
   "metadata": {},
   "outputs": [],
   "source": [
    "#合并label和feature\n",
    "path=r'\\\\mega\\syli\\dataset\\neimo'\n",
    "df1=pd.read_csv(path+'\\\\label1.csv')   #可设置stp\n",
    "for modal in ['T1', 'T1+', 'T2', 'DWI', 'ADC']:\n",
    "    df2=pd.read_csv(path+f'\\\\{modal}_feature.csv')\n",
    "    # df3=df1[['CaseName','p53（0=≤50%；1=＞50%）','age']]\n",
    "    # df3.rename(columns={'p53（0=≤50%；1=＞50%）':'label'},inplace=True)\n",
    "    df5=pd.merge(df1,df2)   #合并数据表,需要共同的列\n",
    "    #df2.insert(1,'label',df3)  #插入列\n",
    "    df5.to_csv(r'\\\\mega\\syli\\dataset\\neimo\\data' + f'\\\\{modal}.csv',index=False,encoding=\"utf_8_sig\")"
   ]
  },
  {
   "cell_type": "markdown",
   "id": "0e4a1769",
   "metadata": {},
   "source": [
    "# 正则匹配"
   ]
  },
  {
   "cell_type": "code",
   "execution_count": null,
   "id": "aecb9070",
   "metadata": {
    "scrolled": true
   },
   "outputs": [],
   "source": [
    "filepath=r'D:\\python\\dataset\\GBM-radiomics\\ki67\\T1-3'\n",
    "zong=pd.read_csv(filepath+'\\\\T1_3.csv')\n",
    "feature_list=['log-sigma-1-0','log-sigma-3-0','log-sigma-5-0','wave','original']\n",
    "df3=zong.iloc[:,:2]\n",
    "\n",
    "for feature in feature_list:\n",
    "    os.makedirs(filepath+f\"\\\\{feature}\\\\result\")\n",
    "    df1=zong.filter(regex='^(?!.*?firstorder).*$')   #^不匹配，?!不包含,.*?非贪婪，.*所有内容\n",
    "#df4=zong.filter(regex='firstorder') \n",
    "    df2=df1.filter(regex=f'{feature}')\n",
    "    result_df=pd.merge(df3,df2,left_index=True,right_index=True)\n",
    "    result_df.to_csv(filepath+f'\\\\{feature}\\\\T1_3.csv',index=False)\n",
    "    \n",
    "df4=zong.filter(regex='firstorder')\n",
    "df5=df4.filter(regex='^(?!.*?original).*$')\n",
    "pd.merge(df3,df5,left_index=True,right_index=True).to_csv(filepath+'\\\\bian_firstorder\\\\T1_3.csv',index=False)\n",
    "df5=df4.filter(regex='original')\n",
    "df3=zong.iloc[:,:3]\n",
    "pd.merge(df3,df5,left_index=True,right_index=True).to_csv(filepath+'\\\\ori_firstorder\\\\T1_3.csv',index=False)"
   ]
  },
  {
   "cell_type": "code",
   "execution_count": null,
   "id": "0ca6d6e7",
   "metadata": {},
   "outputs": [],
   "source": [
    "#提取建模选好的特征并合并\n",
    "path1=r'D:\\python\\dataset\\GBM-radiomics\\FLAIR-2\\LoG3\\result\\Zscore\\PCC\\RFE_8\\feature_select_info.csv'\n",
    "path2=r'D:\\python\\dataset\\GBM-radiomics\\FLAIR-2\\LoG3\\FLAIR_2.csv'\n",
    "path3=r'D:\\python\\dataset\\GBM-radiomics\\T1-1\\T1_1_wenli\\log1\\result\\Zscore\\PCC\\Relief_5\\feature_select_info.csv'\n",
    "path4=r'D:\\python\\dataset\\GBM-radiomics\\T1-1\\T1_1_wenli\\log1\\T1_roi1.csv'\n",
    "feature_df=pd.read_csv(path1)\n",
    "feature=list(feature_df.index[0])+feature_df.values.flatten().tolist()   #索引行并转换为列表\n",
    "print(feature)\n",
    "feature_df1=pd.read_csv(path3)\n",
    "feature1=list(feature_df1.index[0])+feature_df1.values.flatten().tolist()   #索引行并转换为列表\n",
    "#feature=list(set(feature+feature_1))\n",
    "df1=pd.read_csv(path2)\n",
    "df4=pd.read_csv(path4)\n",
    "#info.rename(columns={'MRI-id':'CaseName'},inplace=True)  #改名\n",
    "feature.pop(0)   #出列\n",
    "feature.append('CaseName')  #入栈\n",
    "feature.append('label')\n",
    "feature1.pop(0)   #出列\n",
    "feature1.append('CaseName')  #入栈\n",
    "df2=df1[feature]  #提取多列\n",
    "df3=pd.merge(df2,df4[feature1],on='CaseName')\n",
    "df3.to_csv(r'D:\\python\\dataset\\GBM-radiomics\\comprehensive\\zong.csv',index=False)"
   ]
  },
  {
   "cell_type": "code",
   "execution_count": 19,
   "id": "4cb3bfb1",
   "metadata": {},
   "outputs": [
    {
     "name": "stdout",
     "output_type": "stream",
     "text": [
      "0\n",
      "1\n",
      "2\n",
      "3\n",
      "4\n"
     ]
    }
   ],
   "source": [
    "#提取建模选好的特征并合并\n",
    "feature_path=['']*5\n",
    "df_path=['']*5\n",
    "select_df=['']*5\n",
    "feature_path[0]=r'\\\\mega\\syli\\dataset\\neimo\\data\\ADC_result\\Mean\\PCC\\KW_8\\feature_select_info.csv'\n",
    "df_path[0]=r'\\\\mega\\syli\\dataset\\neimo\\data\\ADC.csv'\n",
    "feature_path[1]=r'\\\\mega\\syli\\dataset\\neimo\\data\\DWI_result\\Zscore\\PCC\\Relief_13\\feature_select_info.csv'\n",
    "df_path[1]=r'\\\\mega\\syli\\dataset\\neimo\\data\\DWI.csv'\n",
    "feature_path[2]=r'\\\\mega\\syli\\dataset\\neimo\\data\\T1_result\\Mean\\PCC\\RFE_12\\feature_select_info.csv'\n",
    "df_path[2]=r'\\\\mega\\syli\\dataset\\neimo\\data\\T1.csv'\n",
    "feature_path[3]=r'\\\\mega\\syli\\dataset\\neimo\\data\\T1+_result\\Zscore\\PCC\\KW_15\\feature_select_info.csv'\n",
    "df_path[3]=r'\\\\mega\\syli\\dataset\\neimo\\data\\T1+.csv'\n",
    "feature_path[4]=r'\\\\mega\\syli\\dataset\\neimo\\data\\T2_result\\Zscore\\PCC\\Relief_3\\feature_select_info.csv'\n",
    "df_path[4]=r'\\\\mega\\syli\\dataset\\neimo\\data\\T2.csv' \n",
    "for i in range(len(df_path)):\n",
    "    print(i)\n",
    "    feature_df=pd.read_csv(feature_path[i])\n",
    "    feature=list(feature_df.index[0])+feature_df.values.flatten().tolist()   #索引行并转换为列表\n",
    "    data_df=pd.read_csv(df_path[i])\n",
    "    feature.pop(0)   #出列\n",
    "    feature.insert(0,'CaseName')  #入栈\n",
    "    feature.insert(1,'label')\n",
    "    select_df[i]=data_df[feature]\n",
    "    if i == 0:\n",
    "        zong_df = select_df[i]\n",
    "    else:\n",
    "        zong_df = pd.merge(zong_df,select_df[i],on=('CaseName','label'))\n",
    "# zong_df=pd.merge(select_df[0],select_df[1],on=('CaseName','label'))  #on可以是两列\n",
    "# zong_df=pd.merge(zong_df,select_df[2],on=('CaseName','label'))\n",
    "zong_df.to_csv(r'\\\\mega\\syli\\dataset\\neimo\\data\\zong.csv',index=False)\n",
    "#info.rename(columns={'MRI-id':'CaseName'},inplace=True)  #改名"
   ]
  },
  {
   "cell_type": "markdown",
   "id": "6fae3402",
   "metadata": {},
   "source": [
    "# 表格相关操作"
   ]
  },
  {
   "cell_type": "code",
   "execution_count": null,
   "id": "98238e2c",
   "metadata": {},
   "outputs": [],
   "source": [
    "#提取表格信息转为列表\n",
    "path=r'D:\\python\\dataset\\GBM-radiomics\\GBM数据增加病例拼音.xlsx'\n",
    "df1=pd.read_excel(path)\n",
    "p53=df1['p53百分比'].values.tolist()\n",
    "p53_label=df1['p53（0=≤50%；1=＞50%）'].values.tolist()\n",
    "MGMT=df1['MGMT（0=≤8%；1=＞8%）'].values.tolist()\n",
    "p53_1=df1['p53_1'].values.tolist()\n",
    "p53_2=df1['p53_2'].values.tolist()"
   ]
  },
  {
   "cell_type": "code",
   "execution_count": null,
   "id": "3139a08f",
   "metadata": {},
   "outputs": [],
   "source": [
    "from math import sqrt\n",
    " \n",
    "def multipl(a,b):\n",
    "    sumofab=0.0\n",
    "    for i in range(len(a)):\n",
    "        temp=a[i]*b[i]\n",
    "        sumofab+=temp\n",
    "    return sumofab\n",
    " \n",
    "def corrcoef(x,y):\n",
    "    n=len(x)\n",
    "    #求和\n",
    "    sum1=sum(x)\n",
    "    sum2=sum(y)\n",
    "    #求乘积之和\n",
    "    sumofxy=multipl(x,y)\n",
    "    #求平方和\n",
    "    sumofx2 = sum([pow(i,2) for i in x])\n",
    "    sumofy2 = sum([pow(j,2) for j in y])\n",
    "    num=sumofxy-(float(sum1)*float(sum2)/n)\n",
    "    #计算皮尔逊相关系数\n",
    "    den=sqrt((sumofx2-float(sum1**2)/n)*(sumofy2-float(sum2**2)/n))\n",
    "    return num/den\n",
    "print(corrcoef(p53_label,MGMT))\n",
    "print(corrcoef(p53_1,MGMT))\n",
    "print(corrcoef(p53_2,MGMT))"
   ]
  },
  {
   "cell_type": "code",
   "execution_count": null,
   "id": "f1a5e759",
   "metadata": {},
   "outputs": [],
   "source": [
    "#多模态合并计算\n",
    "path=r'\\\\mega\\syli\\dataset\\Primary and metastatic'\n",
    "df1=pd.read_csv(path+'\\\\T1\\\\T1_gai.csv')\n",
    "T1CE_feature=pd.read_csv(path+'\\\\T1CE\\\\T1CE_gai.csv')\n",
    "T2_feature=pd.read_csv(path+'\\\\T2\\\\T2_gai.csv')\n",
    "DWI_feature=pd.read_csv(path+'\\\\DWI\\\\DWI_gai1.csv')\n",
    "df1=pd.merge(df1,T2_feature)\n",
    "df1=pd.merge(df1,T1CE_feature)\n",
    "df1=pd.merge(df1,DWI_feature)\n",
    "df1"
   ]
  },
  {
   "cell_type": "code",
   "execution_count": null,
   "id": "4089b931",
   "metadata": {},
   "outputs": [],
   "source": [
    "#计算p值\n",
    "import numpy as np\n",
    "from scipy.stats import chi2_contingency\n",
    "\n",
    "d = np.array([[0, 1,1], [0, 1]])\n",
    "tab = pd.crosstab(x, y).fillna(0)\n",
    "chi2_contingency(d)"
   ]
  },
  {
   "cell_type": "code",
   "execution_count": null,
   "id": "518c8a7c",
   "metadata": {},
   "outputs": [],
   "source": [
    "#分割特征\n",
    "filepath=r'D:\\python\\dataset\\GBM-radiomics'\n",
    "list1=['CBV','DSC','FLAIR-2','T1-1','T2-1']\n",
    "for file_name in list1:\n",
    "    path=filepath+'\\\\'+file_name+'\\\\firstorder'\n",
    "#     os.mkdir(path+'\\\\ori_result')\n",
    "#     os.mkdir(path+'\\\\bian_result')\n",
    "    for form_path in ['\\\\train_numeric_feature.csv','\\\\test_numeric_feature.csv']:\n",
    "        form=path+form_path\n",
    "        zong=pd.read_csv(form)\n",
    "        df1=zong.filter(regex='^(?!.*?original).*$')   #^不匹配，?!不包含,.*?非贪婪，.*所有内容\n",
    "        df2=zong.filter(regex='original') \n",
    "        df3=zong.iloc[:,:2]\n",
    "        df5=pd.merge(df3,df2,left_index=True,right_index=True)\n",
    "        df1.to_csv(path+'\\\\bian_'+form_path[1:],index=False)\n",
    "        df5.to_csv(path+'\\\\ori_'+form_path[1:],index=False)"
   ]
  },
  {
   "cell_type": "code",
   "execution_count": null,
   "id": "508af17d",
   "metadata": {},
   "outputs": [],
   "source": [
    "# df4=df2.filter(regex='^(?!.*?firstorder).*$')   #^不匹配，?!不包含,.*?非贪婪，.*所有内容\n",
    "# df6=df4.filter(regex='wave')  log-sigma-1-0,original\n",
    "filepath=r'D:\\python\\dataset\\GBM-radiomics\\ki67\\T1-3'\n",
    "zong=pd.read_csv(filepath+'\\\\T1_3.csv')\n",
    "feature_list=['log-sigma-1-0','log-sigma-3-0','log-sigma-5-0','wave','original']\n",
    "df3=zong.iloc[:,:2]\n",
    "\n",
    "for feature in feature_list:\n",
    "    os.mkdir(filepath+f\"\\\\{feature}\")\n",
    "    df1=zong.filter(regex='^(?!.*?firstorder).*$')   #^不匹配，?!不包含,.*?非贪婪，.*所有内容\n",
    "#df4=zong.filter(regex='firstorder') \n",
    "    df2=df1.filter(regex=f'{feature}')\n",
    "    result_df=pd.merge(df3,df2,left_index=True,right_index=True)\n",
    "    result_df.to_csv(filepath+f'\\\\{feature}\\\\T1_3.csv',index=False)\n",
    "    \n",
    "df4=zong.filter(regex='firstorder')\n",
    "df5=df4.filter(regex='^(?!.*?original).*$')\n",
    "pd.merge(df3,df5,left_index=True,right_index=True).to_csv(filepath+'\\\\bian_firstorder\\\\T1_3.csv',index=False)\n",
    "df5=df4.filter(regex='original')\n",
    "df3=zong.iloc[:,:3]\n",
    "pd.merge(df3,df5,left_index=True,right_index=True).to_csv(filepath+'\\\\ori_firstorder\\\\T1_3.csv',index=False)"
   ]
  },
  {
   "cell_type": "code",
   "execution_count": null,
   "id": "f596b3a5",
   "metadata": {},
   "outputs": [],
   "source": [
    "df4=zong.filter(regex='firstorder')\n",
    "df5=df4.filter(regex='^(?!.*?original).*$')\n",
    "pd.merge(df3,df5,left_index=True,right_index=True).to_csv(filepath+'\\\\bian_firstorder\\\\T1_3.csv',index=False)\n",
    "df5=df4.filter(regex='original')\n",
    "df3=zong.iloc[:,:3]\n",
    "pd.merge(df3,df5,left_index=True,right_index=True).to_csv(filepath+'\\\\ori_firstorder\\\\T1_3.csv',index=False)\n",
    "df3"
   ]
  },
  {
   "cell_type": "code",
   "execution_count": null,
   "id": "fd7c8edb",
   "metadata": {},
   "outputs": [],
   "source": [
    "df4"
   ]
  },
  {
   "cell_type": "code",
   "execution_count": null,
   "id": "8d18fd90",
   "metadata": {},
   "outputs": [],
   "source": []
  }
 ],
 "metadata": {
  "kernelspec": {
   "display_name": "Python 3",
   "language": "python",
   "name": "python3"
  },
  "language_info": {
   "codemirror_mode": {
    "name": "ipython",
    "version": 3
   },
   "file_extension": ".py",
   "mimetype": "text/x-python",
   "name": "python",
   "nbconvert_exporter": "python",
   "pygments_lexer": "ipython3",
   "version": "3.8.8"
  }
 },
 "nbformat": 4,
 "nbformat_minor": 5
}
